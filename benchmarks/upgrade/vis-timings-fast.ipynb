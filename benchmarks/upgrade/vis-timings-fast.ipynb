{
 "cells": [
  {
   "cell_type": "code",
   "execution_count": 1,
   "metadata": {},
   "outputs": [],
   "source": [
    "import pandas as pd\n",
    "import numpy as np\n",
    "import seaborn as sns\n",
    "import matplotlib.pyplot as plt"
   ]
  },
  {
   "cell_type": "code",
   "execution_count": 2,
   "metadata": {},
   "outputs": [],
   "source": [
    "bench = 'fast'\n",
    "minN = 1\n",
    "maxN = 21"
   ]
  },
  {
   "cell_type": "code",
   "execution_count": 3,
   "metadata": {},
   "outputs": [],
   "source": [
    "def readTimingsFile(num, base):\n",
    "    res = []\n",
    "    file = open('./data/' + base + '/' + str(num) + '/operator-timings-filtered.txt', encoding=\"utf8\").read()\n",
    "    for ind, line in enumerate(file.split('\\n')):\n",
    "        if line == '':\n",
    "            continue\n",
    "        splitLine = line.split(\",\")\n",
    "        res.append([num, str(splitLine[1]), int(splitLine[2]), int(splitLine[3])])\n",
    "    return res\n",
    "\n",
    "results = []\n",
    "for i in range(minN, maxN):\n",
    "    results.append(readTimingsFile(i, bench))"
   ]
  },
  {
   "cell_type": "code",
   "execution_count": 4,
   "metadata": {},
   "outputs": [],
   "source": [
    "eventMap = {\n",
    "    \"markedNext\": \"Marked as next\",\n",
    "    \"phaseOutCompleted\": \"Fully phased out\",\n",
    "    \"activeObjectsCreated\": \"All objects created\",\n",
    "    \"markedActive\": \"Marked as active\"\n",
    "}\n",
    "events = [f\"Revision {x[2]}: {eventMap[x[1]]}\" for x in results[0]]\n",
    "timings = []\n",
    "for i in range(len(results)):\n",
    "    timings.append([x[3] for x in results[i]])"
   ]
  },
  {
   "cell_type": "code",
   "execution_count": 5,
   "metadata": {},
   "outputs": [],
   "source": [
    "def getUserUpgradeTiming(num, base):\n",
    "    file = open('./data/' + base + '/' + str(num) + '/user-timings.txt', encoding=\"utf8\").read()\n",
    "    return int(file.split('\\n')[0])\n",
    "\n",
    "for i in range(minN, maxN):\n",
    "    timings[i - 1][0] = getUserUpgradeTiming(i, bench)\n",
    "\n",
    "events[0] = \"Upgrade Requested\""
   ]
  },
  {
   "cell_type": "code",
   "execution_count": 6,
   "metadata": {},
   "outputs": [
    {
     "name": "stdout",
     "output_type": "stream",
     "text": [
      "[[1638738863535, 1638738864477684540, 1638738869508023489, 1638738869643044775, 1638738869684141392], [1638739118669, 1638739119562499033, 1638739124582016308, 1638739124672588753, 1638739124714113367], [1638739355707, 1638739356672991975, 1638739361691735533, 1638739361757215276, 1638739361897477697], [1638739594899, 1638739595735609919, 1638739600755360189, 1638739600924813157, 1638739600928844501], [1639149985733, 1639149987021690057, 1639149987391964282, 1639149987758690535, 1639149988027700519], [1638740075675, 1638740076584132396, 1638740081602894120, 1638740081767421444, 1638740081767942542], [1638740319029, 1638740319893726427, 1638740324913391438, 1638740325026590489, 1638740325058582150], [1638740565307, 1638740566228427191, 1638740571248834243, 1638740571301539600, 1638740571422467298], [1638740766643, 1638740767404982524, 1638740772424898152, 1638740772510839383, 1638740772553164964], [1638740990371, 1638740991288313614, 1638740996310290569, 1638740996463862249, 1638740996480834472], [1638741224601, 1638741225414448942, 1638741230432968377, 1638741230756248659, 1638741230760034396], [1638741474834, 1638741475770077644, 1638741480789017378, 1638741480994053856, 1638741481179550400], [1638741715997, 1638741717273397197, 1638741722313318410, 1638741722535001276, 1638741722553428393], [1638741955984, 1638741957293303840, 1638741962311443962, 1638741962396294318, 1638741962507942486], [1638742201150, 1638742202151601970, 1638742207214697733, 1638742207379353278, 1638742207382266625], [1638742434717, 1638742435622118892, 1638742440641453212, 1638742440813595964, 1638742440832232694], [1638742674547, 1638742675378906002, 1638742680400164545, 1638742680554872587, 1638742680596488024], [1638742925381, 1638742926284727976, 1638742931303350491, 1638742931492298796, 1638742931495793510], [1638743165334, 1638743166460040925, 1638743171479842576, 1638743171622999286, 1638743171658110222], [1638743413503, 1638743414470041359, 1638743419487895790, 1638743419662092750, 1638743419828566030]]\n"
     ]
    }
   ],
   "source": [
    "print(timings)"
   ]
  },
  {
   "cell_type": "code",
   "execution_count": 7,
   "metadata": {},
   "outputs": [],
   "source": [
    "initNanos = []\n",
    "for i in range(len(timings)):\n",
    "    initNano = timings[i][0] * (10 ** 6)\n",
    "    initNanos.append(initNano)\n",
    "    timings[i][0] = 0\n",
    "    for j in range(1, len(timings[i])):\n",
    "        timings[i][j] = (timings[i][j] - initNano) / (10 ** 9)"
   ]
  },
  {
   "cell_type": "code",
   "execution_count": 8,
   "metadata": {},
   "outputs": [
    {
     "name": "stdout",
     "output_type": "stream",
     "text": [
      "[[0, 0.94268454, 5.973023489, 6.108044775, 6.149141392], [0, 0.893499033, 5.913016308, 6.003588753, 6.045113367], [0, 0.965991975, 5.984735533, 6.050215276, 6.190477697], [0, 0.836609919, 5.856360189, 6.025813157, 6.029844501], [0, 1.288690057, 1.658964282, 2.025690535, 2.294700519], [0, 0.909132396, 5.92789412, 6.092421444, 6.092942542], [0, 0.864726427, 5.884391438, 5.997590489, 6.02958215], [0, 0.921427191, 5.941834243, 5.9945396, 6.115467298], [0, 0.761982524, 5.781898152, 5.867839383, 5.910164964], [0, 0.917313614, 5.939290569, 6.092862249, 6.109834472], [0, 0.813448942, 5.831968377, 6.155248659, 6.159034396], [0, 0.936077644, 5.955017378, 6.160053856, 6.3455504], [0, 1.276397197, 6.31631841, 6.538001276, 6.556428393], [0, 1.30930384, 6.327443962, 6.412294318, 6.523942486], [0, 1.00160197, 6.064697733, 6.229353278, 6.232266625], [0, 0.905118892, 5.924453212, 6.096595964, 6.115232694], [0, 0.831906002, 5.853164545, 6.007872587, 6.049488024], [0, 0.903727976, 5.922350491, 6.111298796, 6.11479351], [0, 1.126040925, 6.145842576, 6.288999286, 6.324110222], [0, 0.967041359, 5.98489579, 6.15909275, 6.32556603]]\n"
     ]
    }
   ],
   "source": [
    "print(timings)"
   ]
  },
  {
   "cell_type": "code",
   "execution_count": 9,
   "metadata": {},
   "outputs": [],
   "source": [
    "from statistics import mean\n",
    "\n",
    "avgTimings = [float(sum(col))/len(col) for col in zip(*timings)]"
   ]
  },
  {
   "cell_type": "code",
   "execution_count": 10,
   "metadata": {},
   "outputs": [
    {
     "name": "stdout",
     "output_type": "stream",
     "text": [
      "[0.0, 0.9686361211500001, 5.7593780398500005, 5.92087082155, 5.9856840841]\n"
     ]
    }
   ],
   "source": [
    "print(avgTimings)"
   ]
  },
  {
   "cell_type": "code",
   "execution_count": 11,
   "metadata": {},
   "outputs": [],
   "source": [
    "def getMessageTimings(num, base):\n",
    "    file = open('./data/' + base + '/' + str(num) + '/message-timings.txt', encoding=\"utf8\").read()\n",
    "    res = []\n",
    "    for ind, line in enumerate(file.split('\\n')):\n",
    "        if line == '':\n",
    "            continue\n",
    "        splitLine = line.split(\",\")\n",
    "        res.append([int(splitLine[0]), int(splitLine[3])])\n",
    "    return res\n"
   ]
  },
  {
   "cell_type": "code",
   "execution_count": 12,
   "metadata": {},
   "outputs": [],
   "source": [
    "import sys\n",
    "import math\n",
    "# Find line segment x-values\n",
    "# Blue -> Rev 1\n",
    "# Orange -> both processing\n",
    "# Red -> No revision processing\n",
    "# Green -> Rev 2 processing\n",
    "def findExtremes(revNum, userTimings):\n",
    "    minEnd = sys.maxsize\n",
    "    maxEnd = ~sys.maxsize\n",
    "    for entry in userTimings:\n",
    "        if entry[0] != revNum:\n",
    "            continue\n",
    "        minEnd = min(minEnd, entry[1])\n",
    "        maxEnd = max(maxEnd, entry[1])\n",
    "    return minEnd, maxEnd\n",
    "\n",
    "\n",
    "def toSecondsFromBegin(timeNano, beginNano):\n",
    "    return (timeNano - beginNano) / (10 ** 9)\n",
    "\n",
    "revProcessingTransTimings = []\n",
    "for i in range(minN, maxN):\n",
    "    userTimings = getMessageTimings(i, bench)\n",
    "    first1, last1 = findExtremes(1, userTimings)\n",
    "    first2, last2 = findExtremes(2, userTimings)\n",
    "\n",
    "    first1 = 0 # fit to graph\n",
    "    # convert to seconds from begin\n",
    "    initNano = initNanos[i - 1]\n",
    "    last1 = toSecondsFromBegin(last1, initNano) \n",
    "    first2 = toSecondsFromBegin(first2, initNano)\n",
    "    last2 = toSecondsFromBegin(last2, initNano)\n",
    "    revProcessingTransTimings.append([first1, last1, first2, last2])\n"
   ]
  },
  {
   "cell_type": "code",
   "execution_count": 13,
   "metadata": {},
   "outputs": [
    {
     "name": "stdout",
     "output_type": "stream",
     "text": [
      "[[0, 1.030411778, 15.315399862, 60.942909674], [0, 1.149600344, 14.856783584, 61.112685787], [0, 1.135085957, 14.904390925, 61.09140009], [0, 0.997581981, 14.668869811, 65.56121948], [0, 1.476054391, 13.410901338, 65.674690189], [0, 1.050986134, 14.59859141, 61.044775807], [0, 1.058785706, 14.947436054, 61.884045696], [0, 1.7434522, 15.760446787, 61.726301634], [0, 1.000273613, 15.132574567, 61.319254221], [0, 1.155448368, 16.387487196, 61.09829941], [0, 1.724474311, 14.608874152, 60.930939974], [0, 1.248877541, 16.125694314, 67.225831133], [0, 1.38864547, 16.286251895, 61.616720254], [0, 1.518898264, 16.38752712, 61.450949586], [0, 1.191845627, 16.024995519, 61.209268618], [0, 1.110894175, 15.961213398, 61.051605318], [0, 1.129942775, 15.228378623, 60.927372371], [0, 1.310023409, 15.589165692, 60.995131747], [0, 1.391295998, 15.375493685, 61.243273591], [0, 1.866883212, 14.92775906, 61.061051035]]\n"
     ]
    }
   ],
   "source": [
    "print(revProcessingTransTimings)"
   ]
  },
  {
   "cell_type": "code",
   "execution_count": 14,
   "metadata": {},
   "outputs": [],
   "source": [
    "avgProcessingTransTimings = [float(sum(col))/len(col) for col in zip(*revProcessingTransTimings)]"
   ]
  },
  {
   "cell_type": "code",
   "execution_count": 15,
   "metadata": {},
   "outputs": [
    {
     "name": "stdout",
     "output_type": "stream",
     "text": [
      "[0.0, 1.2839730627, 15.3249117496, 61.95838628074999]\n"
     ]
    }
   ],
   "source": [
    "print(avgProcessingTransTimings)"
   ]
  },
  {
   "cell_type": "code",
   "execution_count": 16,
   "metadata": {},
   "outputs": [
    {
     "data": {
      "image/png": "[encoded data removed]",
      "text/plain": [
       "<Figure size 633.6x288 with 1 Axes>"
      ]
     },
     "metadata": {
      "needs_background": "light"
     },
     "output_type": "display_data"
    },
    {
     "data": {
      "text/plain": [
       "<Figure size 432x288 with 0 Axes>"
      ]
     },
     "metadata": {},
     "output_type": "display_data"
    }
   ],
   "source": [
    "levels = np.tile([-0.5, 0.5, -0.5, 0.5, -0.25, 0.5],\n",
    "                 int(np.ceil(len(events)/6)))[:len(events)]\n",
    "\n",
    "fig, ax = plt.subplots(figsize=(8.8, 4), constrained_layout=True)\n",
    "ax.set(title=\"Minimal Topopology upgrade timings\")\n",
    "\n",
    "markerline, stemline, baseline = ax.stem(avgTimings, levels,\n",
    "                                         linefmt=\":\", basefmt=\"k-\", \n",
    "                                         use_line_collection=True)\n",
    "\n",
    "plt.setp(markerline, mec=\"k\", mfc=\"w\", zorder=3)\n",
    "\n",
    "# Shift the markers to the baseline by replacing the y-data by zeros.\n",
    "markerline.set_ydata(np.zeros(len(avgTimings)))\n",
    "\n",
    "# annotate lines\n",
    "vert = np.array(['top', 'bottom'])[(levels > 0).astype(int)]\n",
    "for d, l, r, va in zip(avgTimings, levels, events, vert):\n",
    "    ax.annotate(r, xy=(d, l), xytext=(-3, np.sign(l)*3),\n",
    "                textcoords=\"offset points\", va=va, ha=\"center\")\n",
    "\n",
    "\n",
    "plt.setp(ax.get_xticklabels(), rotation=30, ha=\"right\")\n",
    "\n",
    "# remove y axis and spines\n",
    "ax.get_yaxis().set_visible(False)\n",
    "for spine in [\"left\", \"top\", \"right\"]:\n",
    "    ax.spines[spine].set_visible(False)\n",
    "\n",
    "baseline.set_visible(False)\n",
    "baseY = baseline.get_ydata()[0]\n",
    "baseYs = [baseY, baseY]\n",
    "xRev1 = [0, avgProcessingTransTimings[1]]\n",
    "xNone = [avgProcessingTransTimings[1], avgProcessingTransTimings[2]]\n",
    "xRev2 = [avgProcessingTransTimings[2], avgProcessingTransTimings[3] - 45]\n",
    "\n",
    "# add colored baselines\n",
    "pFirst = plt.plot(xRev1, baseYs, '#003f5c', label=\"Revision 1 processing\")\n",
    "plt.plot(xNone, baseYs, '#bc5090', label=\"No events being processed\")\n",
    "pLast = plt.plot(xRev2, baseYs, '#ffa600', label=\"Revision 2 processing\")\n",
    "# add ends of baseline\n",
    "plt.plot([-0.7, 0], baseYs, '--', color=pFirst[0].get_color())\n",
    "plt.plot([xRev2[1], xRev2[1] + 0.7], baseYs, '--', color=pLast[0].get_color())\n",
    "\n",
    "# plot transition markers\n",
    "plt.plot([avgProcessingTransTimings[1]], [baseY], marker=\"|\", color='white', markersize=20, markeredgecolor='black', mew=2, label='Transition in actively processing revision(s)')\n",
    "plt.plot([avgProcessingTransTimings[2]], [baseY], marker=\"|\", color='white', markersize=20, markeredgecolor='black', mew=2)\n",
    "\n",
    "plt.legend(loc=\"upper right\", title=\"Baseline legend\")\n",
    "plt.xlabel(\"Time from the upgrade request in seconds\")\n",
    "ax.margins(y=0.1)\n",
    "plt.savefig('eval-upgrade-fast.pdf')\n",
    "plt.show()\n"
   ]
  },
  {
   "cell_type": "code",
   "execution_count": 17,
   "metadata": {},
   "outputs": [],
   "source": [
    "def readDetailedMessageTimings(base, num):\n",
    "    res = []\n",
    "    file = open('./data/' + base + '/' + str(num) + '/message-timings.txt', encoding=\"utf8\").read()\n",
    "    for ind, line in enumerate(file.split('\\n')):\n",
    "        if line == '':\n",
    "            continue\n",
    "        splitLine = line.split(\",\")\n",
    "        res.append([num, int(splitLine[0]), int(splitLine[1]), int(splitLine[2]), int(splitLine[3]), float(splitLine[4])])\n",
    "    return res\n",
    "\n",
    "messTimingsDetailed = []\n",
    "for i in range(1, 21):\n",
    "    messTimingsDetailed = messTimingsDetailed + readDetailedMessageTimings('fast', i)"
   ]
  },
  {
   "cell_type": "code",
   "execution_count": 18,
   "metadata": {},
   "outputs": [],
   "source": [
    "import pandas as pd\n",
    "df = pd.DataFrame(messTimingsDetailed, columns=['benchNum', 'version', 'id', 'beginTime', 'endTime', 'latency'])"
   ]
  },
  {
   "cell_type": "code",
   "execution_count": 19,
   "metadata": {},
   "outputs": [],
   "source": [
    "firstMsgLatencies = []\n",
    "df_filtered = []\n",
    "for i in range(1, 21):\n",
    "    # ensure no duplicates and no lost message (i.e. checking for duplicate IDs, missing IDs)\n",
    "    df_bench = df[df['benchNum'] == i].reset_index()\n",
    "    msg_ids = df_bench['id']\n",
    "    msg_ids = msg_ids.sort_values(ascending=True).values\n",
    "    for j in range(1, len(msg_ids)):\n",
    "        if msg_ids[j] == msg_ids[j - 1]:\n",
    "            print(\"DUPLICATE FOUND\")\n",
    "        elif msg_ids[j] > (msg_ids[j-1] + 1):\n",
    "            print(\"MESSAGE(s) LOST\")"
   ]
  }
 ],
 "metadata": {
  "interpreter": {
   "hash": "916dbcbb3f70747c44a77c7bcd40155683ae19c65e1c03b4aa3499c5328201f1"
  },
  "kernelspec": {
   "display_name": "Python 3.8.10 64-bit",
   "language": "python",
   "name": "python3"
  },
  "language_info": {
   "codemirror_mode": {
    "name": "ipython",
    "version": 3
   },
   "file_extension": ".py",
   "mimetype": "text/x-python",
   "name": "python",
   "nbconvert_exporter": "python",
   "pygments_lexer": "ipython3",
   "version": "3.8.10"
  },
  "orig_nbformat": 4
 },
 "nbformat": 4,
 "nbformat_minor": 2
}
